{
  "nbformat": 4,
  "nbformat_minor": 0,
  "metadata": {
    "colab": {
      "provenance": [],
      "authorship_tag": "ABX9TyNqyYy09KY9tzBwEJ1K2YyQ",
      "include_colab_link": true
    },
    "kernelspec": {
      "name": "python3",
      "display_name": "Python 3"
    },
    "language_info": {
      "name": "python"
    }
  },
  "cells": [
    {
      "cell_type": "markdown",
      "metadata": {
        "id": "view-in-github",
        "colab_type": "text"
      },
      "source": [
        "<a href=\"https://colab.research.google.com/github/Tempahh/Userdb/blob/main/Userinterface.ipynb\" target=\"_parent\"><img src=\"https://colab.research.google.com/assets/colab-badge.svg\" alt=\"Open In Colab\"/></a>"
      ]
    },
    {
      "cell_type": "code",
      "source": [
        "!pip install fernet"
      ],
      "metadata": {
        "id": "ozc4w_EQks4Q"
      },
      "execution_count": null,
      "outputs": []
    },
    {
      "cell_type": "code",
      "execution_count": 23,
      "metadata": {
        "id": "wICbQyNyYzbN"
      },
      "outputs": [],
      "source": [
        "user_db = {\"user\":\"username\"}"
      ]
    },
    {
      "cell_type": "code",
      "source": [
        "user = input(\"add user: \")\n",
        "\n",
        "def add_user():\n",
        "     name = input('Account Name: ').isalpha\n",
        "     with open('user.txt', 'a') as f:\n",
        "         f.write(name + '\\n')\n"
      ],
      "metadata": {
        "colab": {
          "base_uri": "https://localhost:8080/"
        },
        "id": "g4hzIQywZCzM",
        "outputId": "506bdef3-a7a3-4a5b-879b-8f723c31c6b9"
      },
      "execution_count": 52,
      "outputs": [
        {
          "name": "stdout",
          "output_type": "stream",
          "text": [
            "add user: femi\n"
          ]
        }
      ]
    },
    {
      "cell_type": "code",
      "source": [
        "username = input(\"add username: \")\n",
        "\n",
        "def add_username():\n",
        "  if username.isalpha():\n",
        "    with open('user.txt', 'a') as f:\n",
        "      f.write(username + '\\n')\n",
        "  else:\n",
        "    print('Invalid username. Please enter only alphabetic characters.')\n",
        "\n",
        "add_username()\n"
      ],
      "metadata": {
        "colab": {
          "base_uri": "https://localhost:8080/"
        },
        "id": "8hyyw7G0ZYWp",
        "outputId": "f92ece20-519b-4faf-a6f4-0ddda5426ca3"
      },
      "execution_count": 65,
      "outputs": [
        {
          "name": "stdout",
          "output_type": "stream",
          "text": [
            "add username: deee\n"
          ]
        }
      ]
    },
    {
      "cell_type": "code",
      "source": [
        "while True:\n",
        "  try:\n",
        "    acct = input('do you want to add a new account(add user, add username), press q to quit?: ').lower()\n",
        "    if acct == 'q':\n",
        "      break\n",
        "\n",
        "    elif acct == 'add':\n",
        "      username = input('Enter username: ')\n",
        "      if not username.isalpha():\n",
        "        raise ValueError('Username must contain only alphabetic characters')\n",
        "    \n",
        "      user_db.update({add_user(): add_username()})\n",
        "\n",
        "      print('Account added successfully!')\n",
        "     \n",
        "    else:\n",
        "      print('Invalid option. Please enter \"add\" or \"q\".')\n",
        "\n",
        "  except ValueError as e:\n",
        "    print('Invalid username:', e)\n",
        "\n",
        "\n",
        "\n",
        "    \n",
        "  \n",
        "    "
      ],
      "metadata": {
        "colab": {
          "base_uri": "https://localhost:8080/"
        },
        "id": "W1yy_cF-ZkLb",
        "outputId": "ed3023c1-3480-4efa-e4d5-9e76e9cabe5e"
      },
      "execution_count": 69,
      "outputs": [
        {
          "name": "stdout",
          "output_type": "stream",
          "text": [
            "do you want to add a new account(add user, add username), press q to quit?: add\n",
            "Enter username: chinedu\n",
            "Account Name: tempah\n",
            "Account added successfully!\n",
            "do you want to add a new account(add user, add username), press q to quit?: q\n"
          ]
        }
      ]
    }
  ]
}