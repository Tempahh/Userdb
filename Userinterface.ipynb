{
  "nbformat": 4,
  "nbformat_minor": 0,
  "metadata": {
    "colab": {
      "provenance": [],
      "authorship_tag": "ABX9TyMXD+t1sZBXyK/CztoBEesC",
      "include_colab_link": true
    },
    "kernelspec": {
      "name": "python3",
      "display_name": "Python 3"
    },
    "language_info": {
      "name": "python"
    }
  },
  "cells": [
    {
      "cell_type": "markdown",
      "metadata": {
        "id": "view-in-github",
        "colab_type": "text"
      },
      "source": [
        "<a href=\"https://colab.research.google.com/github/Tempahh/Userdb/blob/main/Userinterface.ipynb\" target=\"_parent\"><img src=\"https://colab.research.google.com/assets/colab-badge.svg\" alt=\"Open In Colab\"/></a>"
      ]
    },
    {
      "cell_type": "code",
      "source": [
        "!pip install fernet"
      ],
      "metadata": {
        "id": "ozc4w_EQks4Q"
      },
      "execution_count": null,
      "outputs": []
    },
    {
      "cell_type": "code",
      "execution_count": 23,
      "metadata": {
        "id": "wICbQyNyYzbN"
      },
      "outputs": [],
      "source": [
        "user_db = {\"user\":\"username\"}"
      ]
    },
    {
      "cell_type": "code",
      "source": [
        "user = input(\"add user: \")\n",
        "\n",
        "def add_user():\n",
        "     name = input('Account Name: ').isalpha\n",
        "     with open('user.txt', 'a') as f:\n",
        "         f.write(name + '\\n')\n"
      ],
      "metadata": {
        "colab": {
          "base_uri": "https://localhost:8080/"
        },
        "id": "g4hzIQywZCzM",
        "outputId": "506bdef3-a7a3-4a5b-879b-8f723c31c6b9"
      },
      "execution_count": 52,
      "outputs": [
        {
          "name": "stdout",
          "output_type": "stream",
          "text": [
            "add user: femi\n"
          ]
        }
      ]
    },
    {
      "cell_type": "code",
      "source": [
        "username = input(\"add username: \")\n",
        "\n",
        "def add_username(username):\n",
        "  if username.isalpha():\n",
        "    with open('user.txt', 'a') as f:\n",
        "      f.write(username + '\\n')\n",
        "  else:\n",
        "    print('Invalid username. Please enter only alphabetic characters.')\n",
        "\n",
        "add_username(username)\n"
      ],
      "metadata": {
        "colab": {
          "base_uri": "https://localhost:8080/"
        },
        "id": "8hyyw7G0ZYWp",
        "outputId": "3b3a1fd6-6ad4-4787-e37d-a80ce01a7bbd"
      },
      "execution_count": 59,
      "outputs": [
        {
          "output_type": "stream",
          "name": "stdout",
          "text": [
            "add username: 456\n",
            "Invalid username. Please enter only alphabetic characters.\n"
          ]
        }
      ]
    },
    {
      "cell_type": "code",
      "source": [
        "while True:\n",
        "  try:\n",
        "    acct = input('do you want to add a new account(add user, add username), press q to quit?: ').lower()\n",
        "    if acct == 'q':\n",
        "      break\n",
        "\n",
        "    elif acct == 'add':\n",
        "      username = input('Enter username: ')\n",
        "      if not username.isalpha():\n",
        "        raise ValueError('Username must contain only alphabetic characters')\n",
        "      add_username(username)\n",
        "      add_user()\n",
        "      print('Account added successfully!')\n",
        "     \n",
        "    else:\n",
        "      print('Invalid option. Please enter \"add\" or \"q\".')\n",
        "\n",
        "  except ValueError as e:\n",
        "    print('Invalid username:', e)\n",
        "\n",
        "    \n",
        "  \n",
        "    "
      ],
      "metadata": {
        "colab": {
          "base_uri": "https://localhost:8080/"
        },
        "id": "W1yy_cF-ZkLb",
        "outputId": "053a44d9-9ffe-4557-da61-9abacbead61b"
      },
      "execution_count": 60,
      "outputs": [
        {
          "name": "stdout",
          "output_type": "stream",
          "text": [
            "do you want to add a new account(add user, add username), press q to quit?: add\n",
            "Enter username: femi\n",
            "Account Name: femi\n",
            "Account added successfully!\n",
            "do you want to add a new account(add user, add username), press q to quit?: julio\n",
            "Invalid option. Please enter \"add\" or \"q\".\n",
            "do you want to add a new account(add user, add username), press q to quit?: dess\n",
            "Invalid option. Please enter \"add\" or \"q\".\n",
            "do you want to add a new account(add user, add username), press q to quit?: q\n"
          ]
        }
      ]
    }
  ]
}